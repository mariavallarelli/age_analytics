{
 "cells": [
  {
   "cell_type": "code",
   "execution_count": 1,
   "metadata": {
    "colab": {
     "base_uri": "https://localhost:8080/",
     "height": 54
    },
    "id": "jWzCpoMNFIKT",
    "outputId": "7d36f14b-305f-4578-ff49-0b123d7c46fe"
   },
   "outputs": [
    {
     "name": "stdout",
     "output_type": "stream",
     "text": [
      "[nltk_data] Downloading package stopwords to /root/nltk_data...\n",
      "[nltk_data]   Package stopwords is already up-to-date!\n"
     ]
    }
   ],
   "source": [
    "import pandas as pd\n",
    "import matplotlib.pyplot as plt\n",
    "from wordcloud import WordCloud\n",
    "import nltk\n",
    "from sklearn.feature_extraction.text import TfidfVectorizer\n",
    "nltk.download('stopwords')\n",
    "stopwords=nltk.corpus.stopwords.words('english')\n",
    "\n",
    "def get_keywords(df, age_group):\n",
    "    \"\"\"This method extracts the top relevant 50 keywords according to\n",
    "    their TF-IDF score, plot them as a word cloud and save screenshot\"\"\"\n",
    "\n",
    "    corpus = df.words\n",
    "    # vectorizing and removing stop words\n",
    "    tfidf = TfidfVectorizer(max_features=1000, stop_words=stopwords)\n",
    "    X = tfidf.fit_transform(corpus)\n",
    "    #print(\"ok\")\n",
    "    df1 = pd.DataFrame(X.toarray(), columns=tfidf.get_feature_names())\n",
    "    df.drop('words', axis=1, inplace=True)\n",
    "    res = pd.concat([df, df1], axis=1)\n",
    "    df1.T.sum(axis=1)\n",
    "    cloud = WordCloud(background_color=\"white\", max_words=50, stopwords=stopwords).generate_from_frequencies(df1.T.sum(axis=1))\n",
    "    plt.figure(figsize=[12,10])\n",
    "    plt.imshow(cloud)\n",
    "    plt.axis(\"off\")\n",
    "    plt.tight_layout(pad=0)\n",
    "    plt.show()\n",
    "    age_range = get_age_range(age_group)\n",
    "    plt.title('Wordcloud of Age Group ' + age_range)\n",
    "    plt.savefig(age_range+'.png')\n",
    "    plt.close()\n",
    "\n",
    "\n",
    "def get_age_range(age_group):\n",
    "    \"\"\" This method returns the age group description\"\"\"\n",
    "    switcher = {\n",
    "        1: \"18 to 29 years\",\n",
    "        2: \"30 to 39 years\",\n",
    "        3: \"40 to 49 years\",\n",
    "        4: \"50 to 59 years\",\n",
    "        5: \"60 to 69 years\"\n",
    "    }\n",
    "    return switcher[age_group]\n",
    "\n",
    "\n"
   ]
  },
  {
   "cell_type": "code",
   "execution_count": null,
   "metadata": {},
   "outputs": [],
   "source": [
    "df_score = pd.read_csv('df_all_labelled_short.csv', header=0, sep=',', encoding='utf-8', skip_blank_lines=True)\n",
    "for i in range(1, 6):\n",
    "    is_range_of = df_score['_range_age'] == i\n",
    "    df_age = df_score[is_range_of]\n",
    "    df_age = df_score.fillna('')\n",
    "    df = df_age[['words', '_range_age']].copy()\n",
    "    get_keywords(df, i)\n",
    "    break"
   ]
  }
 ],
 "metadata": {
  "colab": {
   "name": "ColabNotebook_KeywordsAgeGroupsTweets.ipynb",
   "provenance": []
  },
  "kernelspec": {
   "display_name": "Python 3",
   "language": "python",
   "name": "python3"
  },
  "language_info": {
   "codemirror_mode": {
    "name": "ipython",
    "version": 3
   },
   "file_extension": ".py",
   "mimetype": "text/x-python",
   "name": "python",
   "nbconvert_exporter": "python",
   "pygments_lexer": "ipython3",
   "version": "3.7.6"
  }
 },
 "nbformat": 4,
 "nbformat_minor": 1
}
